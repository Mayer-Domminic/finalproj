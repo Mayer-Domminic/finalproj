{
 "cells": [
  {
   "cell_type": "code",
   "execution_count": 6,
   "metadata": {},
   "outputs": [],
   "source": [
    "import pandas as pd\n",
    "import xlrd"
   ]
  },
  {
   "cell_type": "code",
   "execution_count": 17,
   "metadata": {},
   "outputs": [
    {
     "name": "stdout",
     "output_type": "stream",
     "text": [
      "                                                     0             1   \\\n",
      "0                               Stability Ball Dead Bug      Beginner   \n",
      "1                                          Glute Bridge      Beginner   \n",
      "2                                              Bird Dog      Beginner   \n",
      "3                  Stability Ball Seated Russian Twist       Beginner   \n",
      "4                  Stability Ball Feet Elevated Crunch       Beginner   \n",
      "...                                                 ...           ...   \n",
      "1355  Single Arm Clubbell Order Foot Elevated Cossac...  Intermediate   \n",
      "1356  Single Arm Clubbell Front Flag Hold Cossack Squat        Novice   \n",
      "1357  Single Arm Clubbell Front Flag Hold Alternatin...        Novice   \n",
      "1358  Single Arm Clubbell Front Flag Hold Low Switch...  Intermediate   \n",
      "1359  Single Arm Clubbell Front Flag Hold Foot Eleva...  Intermediate   \n",
      "\n",
      "              2                   3                  4                5   \\\n",
      "0     Abdominals    Rectus Abdominis                NaN              NaN   \n",
      "1         Glutes     Gluteus Maximus                NaN              NaN   \n",
      "2     Abdominals    Rectus Abdominis                NaN              NaN   \n",
      "3     Abdominals            Obliques  Rectus Abdominis               NaN   \n",
      "4     Abdominals    Rectus Abdominis                NaN              NaN   \n",
      "...          ...                 ...                ...              ...   \n",
      "1355  Quadriceps  Quadriceps Femoris    Adductor Magnus  Gluteus Maximus   \n",
      "1356  Quadriceps  Quadriceps Femoris    Adductor Magnus  Gluteus Maximus   \n",
      "1357  Quadriceps  Quadriceps Femoris    Adductor Magnus  Gluteus Maximus   \n",
      "1358  Quadriceps  Quadriceps Femoris    Adductor Magnus  Gluteus Maximus   \n",
      "1359  Quadriceps  Quadriceps Femoris    Adductor Magnus  Gluteus Maximus   \n",
      "\n",
      "                  6   7    8   9   ...               16   17   18  \\\n",
      "0     Stability Ball   1  NaN NaN  ...   Anti-Extension  NaN  NaN   \n",
      "1         Bodyweight   0  NaN NaN  ...    Hip Extension  NaN  NaN   \n",
      "2         Bodyweight   0  NaN NaN  ...  Anti-Rotational  NaN  NaN   \n",
      "3     Stability Ball   1  NaN NaN  ...       Rotational  NaN  NaN   \n",
      "4     Stability Ball   1  NaN NaN  ...   Spinal Flexion  NaN  NaN   \n",
      "...              ...  ..  ...  ..  ...              ...  ...  ...   \n",
      "1355        Clubbell   1  NaN NaN  ...    Knee Dominant  NaN  NaN   \n",
      "1356        Clubbell   1  NaN NaN  ...    Knee Dominant  NaN  NaN   \n",
      "1357        Clubbell   1  NaN NaN  ...    Knee Dominant  NaN  NaN   \n",
      "1358        Clubbell   1  NaN NaN  ...    Knee Dominant  NaN  NaN   \n",
      "1359        Clubbell   1  NaN NaN  ...    Knee Dominant  NaN  NaN   \n",
      "\n",
      "                    19   20   21          22         23             24  \\\n",
      "0       Sagittal Plane  NaN  NaN  Midsection   Compound  Contralateral   \n",
      "1       Sagittal Plane  NaN  NaN  Lower Body   Compound      Bilateral   \n",
      "2       Sagittal Plane  NaN  NaN  Midsection   Compound  Contralateral   \n",
      "3     Transverse Plane  NaN  NaN  Midsection   Compound      Bilateral   \n",
      "4       Sagittal Plane  NaN  NaN  Midsection  Isolation      Bilateral   \n",
      "...                ...  ...  ...         ...        ...            ...   \n",
      "1355     Frontal Plane  NaN  NaN  Lower Body   Compound     Unilateral   \n",
      "1356     Frontal Plane  NaN  NaN  Lower Body   Compound     Unilateral   \n",
      "1357     Frontal Plane  NaN  NaN  Lower Body   Compound     Unilateral   \n",
      "1358     Frontal Plane  NaN  NaN  Lower Body   Compound     Unilateral   \n",
      "1359     Frontal Plane  NaN  NaN  Lower Body   Compound     Unilateral   \n",
      "\n",
      "            25  \n",
      "0     Postural  \n",
      "1          NaN  \n",
      "2     Postural  \n",
      "3          NaN  \n",
      "4          NaN  \n",
      "...        ...  \n",
      "1355       NaN  \n",
      "1356       NaN  \n",
      "1357       NaN  \n",
      "1358       NaN  \n",
      "1359       NaN  \n",
      "\n",
      "[1360 rows x 26 columns]\n"
     ]
    }
   ],
   "source": [
    "df = pd.read_csv('data.csv', header=None)\n",
    "print(df)"
   ]
  },
  {
   "cell_type": "code",
   "execution_count": 24,
   "metadata": {},
   "outputs": [
    {
     "ename": "SyntaxError",
     "evalue": "invalid syntax (2741362554.py, line 2)",
     "output_type": "error",
     "traceback": [
      "\u001b[1;36m  Cell \u001b[1;32mIn[24], line 2\u001b[1;36m\u001b[0m\n\u001b[1;33m    \"Exercise\", \"Difficulty Level\",|\u001b[0m\n\u001b[1;37m                                   ^\u001b[0m\n\u001b[1;31mSyntaxError\u001b[0m\u001b[1;31m:\u001b[0m invalid syntax\n"
     ]
    }
   ],
   "source": [
    "headings = [\n",
    "    \"Exercise\", \"Difficulty Level\",\n",
    "    \"Target Muscle Group\", \"Prime Mover Muscle\", \"Secondary Muscle\", \"Tertiary Muscle\",\n",
    "    \"Primary Equipment\", \"# Primary Items\", \"Secondary Equipment\", \"# Secondary Items\",\n",
    "    \"Posture\", \"Single or Double Arm\", \"Continuous or Alternating Arms\", \"Grip\",\n",
    "    \"Load Position (Ending)\", \"Combination Exercises\", \"Movement Pattern #1\",\n",
    "    \"Movement Pattern #2\", \"Movement Pattern #3\", \"Plane Of Motion #1\",\n",
    "    \"Plane Of Motion #2\", \"Plane Of Motion #3\", \"Body Region\", \"Mechanics\", \"Laterality\",\n",
    "    \"Exercise Classification\"\n",
    "]\n",
    "df.columns = headings\n",
    "print(df.head(10))"
   ]
  },
  {
   "cell_type": "code",
   "execution_count": null,
   "metadata": {},
   "outputs": [],
   "source": []
  }
 ],
 "metadata": {
  "kernelspec": {
   "display_name": "Python 3",
   "language": "python",
   "name": "python3"
  },
  "language_info": {
   "codemirror_mode": {
    "name": "ipython",
    "version": 3
   },
   "file_extension": ".py",
   "mimetype": "text/x-python",
   "name": "python",
   "nbconvert_exporter": "python",
   "pygments_lexer": "ipython3",
   "version": "3.12.3"
  }
 },
 "nbformat": 4,
 "nbformat_minor": 2
}
